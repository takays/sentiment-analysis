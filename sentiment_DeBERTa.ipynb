{
  "nbformat": 4,
  "nbformat_minor": 0,
  "metadata": {
    "colab": {
      "provenance": [],
      "machine_shape": "hm",
      "gpuType": "T4",
      "authorship_tag": "ABX9TyMv7KOJWgd179zwjBmG6o4p"
    },
    "kernelspec": {
      "name": "python3",
      "display_name": "Python 3"
    },
    "language_info": {
      "name": "python"
    },
    "accelerator": "GPU"
  },
  "cells": [
    {
      "cell_type": "markdown",
      "source": [
        "### DeBERTa センチメント分析"
      ],
      "metadata": {
        "id": "pQIgcy8Dlq7m"
      }
    },
    {
      "cell_type": "markdown",
      "metadata": {
        "id": "RXMbAxN0BNVf"
      },
      "source": [
        "#### Google Driveマウント & データフォルダ設定 & ライブラリ設定"
      ]
    },
    {
      "cell_type": "code",
      "execution_count": null,
      "metadata": {
        "id": "AAfs6WJxA30u",
        "collapsed": true
      },
      "outputs": [],
      "source": [
        "from google.colab import drive\n",
        "drive.mount('/content/drive')"
      ]
    },
    {
      "cell_type": "code",
      "source": [
        "!pip install transformers datasets pandas torch"
      ],
      "metadata": {
        "id": "gdDRmhz1P2md",
        "collapsed": true
      },
      "execution_count": null,
      "outputs": []
    },
    {
      "cell_type": "markdown",
      "source": [
        "#### モデルとトークナイザーの読み込み"
      ],
      "metadata": {
        "id": "u2cTn02XWgKI"
      }
    },
    {
      "cell_type": "code",
      "source": [
        "import pandas as pd\n",
        "from transformers import AutoTokenizer, AutoModelForSequenceClassification\n",
        "import torch\n",
        "import torch.nn.functional as F\n",
        "\n",
        "# モデルとトークナイザーのロード\n",
        "model_name = \"./DeBERTa/best_model_f1\"\n",
        "tokenizer = AutoTokenizer.from_pretrained(model_name)\n",
        "model = AutoModelForSequenceClassification.from_pretrained(model_name)"
      ],
      "metadata": {
        "id": "YRKXiY9p-Nyq"
      },
      "execution_count": null,
      "outputs": []
    },
    {
      "cell_type": "code",
      "source": [
        "import re\n",
        "\n",
        "# 【】の文字列を削除する関数\n",
        "def remove_prefix(text):\n",
        "    # 正規表現パターン: 「任意の一文字」と「【】で囲まれた文字列」\n",
        "    pattern = r'.【.*?】'\n",
        "    # 置換: マッチした部分を空文字列に置換\n",
        "    result = re.sub(pattern, '', text)\n",
        "    return result"
      ],
      "metadata": {
        "id": "bmvdo9Pc-4t0"
      },
      "execution_count": null,
      "outputs": []
    },
    {
      "cell_type": "code",
      "source": [
        "# モデルを評価モードに設定\n",
        "model.eval()\n",
        "\n",
        "# デバイスの設定 (GPUが利用可能な場合)\n",
        "device = torch.device(\"cuda\" if torch.cuda.is_available() else \"cpu\")\n",
        "model.to(device)"
      ],
      "metadata": {
        "collapsed": true,
        "id": "XNDFFmlBV2Hy"
      },
      "execution_count": null,
      "outputs": []
    },
    {
      "cell_type": "code",
      "source": [
        "# チャンクごとにデータを処理する関数\n",
        "def process_chunk(chunk, text_column_index):\n",
        "    texts = chunk.iloc[:, text_column_index].tolist()\n",
        "    texts = [remove_prefix(text) for text in texts]\n",
        "    print(texts)\n",
        "\n",
        "    # データの前処理\n",
        "    def preprocess_function(texts):\n",
        "        return tokenizer(texts, padding='max_length', truncation=True, max_length=128, return_tensors=\"pt\")\n",
        "\n",
        "    inputs = preprocess_function(texts)\n",
        "\n",
        "    with torch.no_grad():\n",
        "        inputs = {key: val.to(device) for key, val in inputs.items()}\n",
        "        outputs = model(**inputs)\n",
        "        probs = F.softmax(outputs.logits, dim=-1)\n",
        "        positive_probs = probs[:, 1].cpu().numpy()  # クラス1（ポジティブ）の確率\n",
        "        negative_probs = probs[:, 0].cpu().numpy()  # クラス0（ネガティブ）の確率\n",
        "\n",
        "    select_columns = [0, 1, 2, 3, 4, 6, 7]\n",
        "    result_chunk = chunk.iloc[:, select_columns].copy()  # 1～5列目，7,8列目をコピー\n",
        "    result_chunk['positive_probability'] = positive_probs\n",
        "    result_chunk['negative_probability'] = negative_probs\n",
        "\n",
        "    return result_chunk"
      ],
      "metadata": {
        "id": "m0sIgd7xV6LM"
      },
      "execution_count": null,
      "outputs": []
    },
    {
      "cell_type": "code",
      "source": [
        "import os\n",
        "# 一時ファイルディレクトリの作成\n",
        "temp_dir = \"./temp_chunks\"\n",
        "os.makedirs(temp_dir, exist_ok=True)"
      ],
      "metadata": {
        "id": "pUaMw2nMgmpv"
      },
      "execution_count": null,
      "outputs": []
    },
    {
      "cell_type": "code",
      "source": [
        "# CSVファイルの読み込みと処理\n",
        "input_csv = './MDA_DataSet_2014_2022_TSE1.csv'  # 入力ファイルパス\n",
        "output_csv = './MDA_DataSet_2014_2022_TSE1_deberta.csv'  # 出力ファイルパス\n",
        "chunk_size = 50  # チャンクサイズ"
      ],
      "metadata": {
        "id": "HHSkJO7yX_D5"
      },
      "execution_count": null,
      "outputs": []
    },
    {
      "cell_type": "code",
      "source": [
        "# チャンクごとに処理して一時ファイルに保存\n",
        "chunk_number = 0\n",
        "for chunk in pd.read_csv(input_csv, chunksize=chunk_size):\n",
        "    processed_chunk = process_chunk(chunk, text_column_index=5)  # テキスト列のインデックスを6列目に指定（0から数えるので5）\n",
        "    temp_chunk_file = os.path.join(temp_dir, f\"chunk_{chunk_number}.csv\")\n",
        "    processed_chunk.to_csv(temp_chunk_file, index=False)\n",
        "    chunk_number += 1\n",
        "\n",
        "# 一時ファイルを結合して最終結果ファイルを作成\n",
        "header_written = False\n",
        "with open(output_csv, 'w', encoding='utf-8') as fout:\n",
        "    for i in range(chunk_number):\n",
        "        temp_chunk_file = os.path.join(temp_dir, f\"chunk_{i}.csv\")\n",
        "        with open(temp_chunk_file, 'r', encoding='utf-8') as fin:\n",
        "            if not header_written:\n",
        "                # ヘッダーを書き込む\n",
        "                fout.write(fin.read())\n",
        "                header_written = True\n",
        "            else:\n",
        "                # ヘッダーをスキップして書き込む\n",
        "                next(fin)\n",
        "                fout.write(fin.read())\n",
        "\n",
        "# 一時ファイルの削除\n",
        "for i in range(chunk_number):\n",
        "    temp_chunk_file = os.path.join(temp_dir, f\"chunk_{i}.csv\")\n",
        "    os.remove(temp_chunk_file)\n",
        "os.rmdir(temp_dir)\n",
        "\n",
        "print(\"処理が完了しました。\")"
      ],
      "metadata": {
        "id": "fltLQWj4YPv7"
      },
      "execution_count": null,
      "outputs": []
    }
  ]
}